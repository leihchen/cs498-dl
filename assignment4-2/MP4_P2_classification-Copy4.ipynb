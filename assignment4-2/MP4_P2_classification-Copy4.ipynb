{
 "cells": [
  {
   "cell_type": "code",
   "execution_count": 1,
   "metadata": {},
   "outputs": [],
   "source": [
    "import os\n",
    "import time\n",
    "import math\n",
    "import glob\n",
    "import string\n",
    "import random \n",
    "# !conda install torch, torchvision\n",
    "import torch\n",
    "import torch.nn as nn\n",
    "import csv\n",
    "from rnn.helpers import time_since\n",
    "# !conda install unidecode\n",
    "%matplotlib inline"
   ]
  },
  {
   "cell_type": "code",
   "execution_count": 2,
   "metadata": {},
   "outputs": [],
   "source": [
    "device = torch.device(\"cuda:0\" if torch.cuda.is_available() else \"cpu\")"
   ]
  },
  {
   "cell_type": "markdown",
   "metadata": {},
   "source": [
    "# Language recognition with an RNN\n",
    "\n",
    "If you've ever used an online translator you've probably seen a feature that automatically detects the input language. While this might be easy to do if you input unicode characters that are unique to one or a small group of languages (like \"你好\" or \"γεια σας\"), this problem is more challenging if the input only uses the available ASCII characters. In this case, something like \"těší mě\" would beome \"tesi me\" in the ascii form. This is a more challenging problem in which the language must be recognized purely by the pattern of characters rather than unique unicode characters.\n",
    "\n",
    "We will train an RNN to solve this problem for a small set of languages thta can be converted to romanized ASCII form. For training data it would be ideal to have a large and varied dataset in different language styles. However, it is easy to find copies of the Bible which is a large text translated to different languages but in the same easily parsable format, so we will use 20 different copies of the Bible as training data. Using the same book for all of the different languages will hopefully prevent minor overfitting that might arise if we used different books for each language (fitting to common characteristics of the individual books rather than the language)."
   ]
  },
  {
   "cell_type": "code",
   "execution_count": 3,
   "metadata": {},
   "outputs": [
    {
     "name": "stdout",
     "output_type": "stream",
     "text": [
      "tesi me\n"
     ]
    }
   ],
   "source": [
    "from unidecode import unidecode as unicodeToAscii\n",
    "\n",
    "all_characters = string.printable\n",
    "n_letters = len(all_characters)\n",
    "\n",
    "print(unicodeToAscii('těší mě'))"
   ]
  },
  {
   "cell_type": "code",
   "execution_count": 4,
   "metadata": {},
   "outputs": [],
   "source": [
    "# Read a file and split into lines\n",
    "def readFile(filename):\n",
    "    data = open(filename, encoding='utf-8').read().strip()\n",
    "    return unicodeToAscii(data)\n",
    "\n",
    "def get_category_data(data_path):\n",
    "    # Build the category_data dictionary, a list of names per language\n",
    "    category_data = {}\n",
    "    all_categories = []\n",
    "    for filename in glob.glob(data_path):\n",
    "        category = os.path.splitext(os.path.basename(filename))[0].split('_')[0]\n",
    "        all_categories.append(category)\n",
    "        data = readFile(filename)\n",
    "        category_data[category] = data\n",
    "    \n",
    "    return category_data, all_categories"
   ]
  },
  {
   "cell_type": "markdown",
   "metadata": {},
   "source": [
    "The original text is split into two parts, train and test, so that we can make sure that the model is not simply memorizing the train data."
   ]
  },
  {
   "cell_type": "code",
   "execution_count": 5,
   "metadata": {},
   "outputs": [
    {
     "name": "stdout",
     "output_type": "stream",
     "text": [
      "20\n",
      "['albanian', 'czech', 'danish', 'english', 'esperanto', 'finnish', 'french', 'german', 'hungarian', 'italian', 'lithuanian', 'maori', 'norwegian', 'portuguese', 'romanian', 'spanish', 'swedish', 'turkish', 'vietnamese', 'xhosa']\n"
     ]
    }
   ],
   "source": [
    "train_data_path = 'language_data/train/*_train.txt'\n",
    "test_data_path = 'language_data/test/*_test.txt'\n",
    "\n",
    "train_category_data, all_categories = get_category_data(train_data_path)\n",
    "test_category_data, test_all_categories = get_category_data(test_data_path)\n",
    "\n",
    "n_languages = len(all_categories)\n",
    "\n",
    "print(len(all_categories))\n",
    "print(all_categories)"
   ]
  },
  {
   "cell_type": "markdown",
   "metadata": {},
   "source": [
    "# Data processing"
   ]
  },
  {
   "cell_type": "code",
   "execution_count": 6,
   "metadata": {},
   "outputs": [],
   "source": [
    "def categoryFromOutput(output):\n",
    "    top_n, top_i = output.topk(1, dim=1)\n",
    "    category_i = top_i[:, 0]\n",
    "    return category_i\n",
    "\n",
    "# Turn string into long tensor\n",
    "def stringToTensor(string):\n",
    "    tensor = torch.zeros(len(string), requires_grad=True).long()\n",
    "    for c in range(len(string)):\n",
    "        tensor[c] = all_characters.index(string[c])\n",
    "    return tensor\n",
    "\n",
    "def load_random_batch(text, chunk_len, batch_size):\n",
    "    input_data = torch.zeros(batch_size, chunk_len).long().to(device)\n",
    "    target = torch.zeros(batch_size, 1).long().to(device)\n",
    "    input_text = []\n",
    "    for i in range(batch_size):\n",
    "        category = all_categories[random.randint(0, len(all_categories) - 1)]\n",
    "        line_start = random.randint(0, len(text[category])-chunk_len)\n",
    "        category_tensor = torch.tensor([all_categories.index(category)], dtype=torch.long)\n",
    "        line = text[category][line_start:line_start+chunk_len]\n",
    "        input_text.append(line)\n",
    "        input_data[i] = stringToTensor(line)\n",
    "        target[i] = category_tensor\n",
    "    return input_data, target, input_text"
   ]
  },
  {
   "cell_type": "markdown",
   "metadata": {},
   "source": [
    "Implement Model\n",
    "====================\n",
    "\n",
    "For this classification task, we can use the same model we implement for the generation task which is located in `rnn/model.py`. See the `MP4_P2_generation.ipynb` notebook for more instructions. In this case each output vector of our RNN will have the dimension of the number of possible languages (i.e. `n_languages`). We will use this vector to predict a distribution over the languages.\n",
    "\n",
    "In the generation task, we used the output of the RNN at every time step to predict the next letter and our loss included the output from each of these predictions. However, in this task we use the output of the RNN at the end of the sequence to predict the language, so our loss function will use only the predicted output from the last time step.\n",
    "\n"
   ]
  },
  {
   "cell_type": "markdown",
   "metadata": {},
   "source": [
    "# Train RNN"
   ]
  },
  {
   "cell_type": "code",
   "execution_count": 7,
   "metadata": {},
   "outputs": [],
   "source": [
    "from rnn.model import RNN"
   ]
  },
  {
   "cell_type": "code",
   "execution_count": 8,
   "metadata": {},
   "outputs": [],
   "source": [
    "chunk_len = 50\n",
    "\n",
    "BATCH_SIZE = 100\n",
    "n_epochs = 4000\n",
    "hidden_size = 160\n",
    "n_layers = 2\n",
    "learning_rate = 0.0005\n",
    "model_type = 'lstm'\n",
    "\n",
    "criterion = nn.CrossEntropyLoss()\n",
    "rnn = RNN(n_letters, hidden_size, n_languages, model_type=model_type, n_layers=n_layers).to(device)"
   ]
  },
  {
   "cell_type": "markdown",
   "metadata": {},
   "source": [
    "**TODO:** Fill in the train function. You should initialize a hidden layer representation using your RNN's `init_hidden` function, set the model gradients to zero, and loop over each time step (character) in the input tensor. For each time step compute the output of the of the RNN and the next hidden layer representation. The cross entropy loss should be computed over the last RNN output scores from the end of the sequence and the target classification tensor. Lastly, call backward on the loss and take an optimizer step."
   ]
  },
  {
   "cell_type": "code",
   "execution_count": 9,
   "metadata": {},
   "outputs": [],
   "source": [
    "def train(rnn, target_tensor, data_tensor, optimizer, criterion, batch_size=BATCH_SIZE):\n",
    "    \"\"\"\n",
    "    Inputs:\n",
    "    - rnn: model\n",
    "    - target_target: target character data tensor of shape (batch_size, 1)\n",
    "    - data_tensor: input character data tensor of shape (batch_size, chunk_len)\n",
    "    - optimizer: rnn model optimizer\n",
    "    - criterion: loss function\n",
    "    - batch_size: data batch size\n",
    "    \n",
    "    Returns:\n",
    "    - output: output from RNN from end of sequence \n",
    "    - loss: computed loss value as python float\n",
    "    \n",
    "    \"\"\"\n",
    "    \n",
    "    output, loss = None, None\n",
    "    \n",
    "    ####################################\n",
    "    #          YOUR CODE HERE          #\n",
    "    ####################################\n",
    "    hidden = rnn.init_hidden(data_tensor.shape[0])\n",
    "    rnn.zero_grad()\n",
    "    for i in range(chunk_len):\n",
    "        output, hidden = rnn(data_tensor[:, i], hidden)\n",
    "    loss = criterion(output.reshape(batch_size, -1), target_tensor.squeeze())\n",
    "    loss.backward()\n",
    "    optimizer.step()\n",
    "    \n",
    "    ##########       END      ##########\n",
    "\n",
    "    return output, loss\n",
    "    "
   ]
  },
  {
   "cell_type": "code",
   "execution_count": 10,
   "metadata": {},
   "outputs": [],
   "source": [
    "def evaluate(rnn, data_tensor, seq_len=chunk_len, batch_size=BATCH_SIZE):\n",
    "    with torch.no_grad():\n",
    "        data_tensor = data_tensor.to(device)\n",
    "        hidden = rnn.init_hidden(batch_size, device=device)\n",
    "        for i in range(seq_len):\n",
    "            output, hidden = rnn(data_tensor[:,i], hidden)\n",
    "        \n",
    "        return output\n",
    "    \n",
    "def eval_test(rnn, category_tensor, data_tensor):\n",
    "    with torch.no_grad():\n",
    "        output = evaluate(rnn, data_tensor)\n",
    "        loss = criterion(output, category_tensor.squeeze())\n",
    "        return output, loss.item()"
   ]
  },
  {
   "cell_type": "code",
   "execution_count": 11,
   "metadata": {
    "scrolled": false
   },
   "outputs": [
    {
     "name": "stdout",
     "output_type": "stream",
     "text": [
      "50 1% (0m 20s) 2.2914 2.3001 uoi nay lam phep la nhieu lam, chung ta tinh the n / vietnamese ✓\n",
      "Train accuracy: 0.119\n",
      "100 2% (0m 40s) 1.6283 1.5525 esete hrichy sveho hnusneho modlarstvi. I poznate, / albanian ✗ (czech)\n",
      "Train accuracy: 0.3734\n",
      "150 3% (1m 1s) 1.1370 1.1516 y one mourn that dwelleth therein? yea, it shall r / english ✓\n",
      "Train accuracy: 0.5702\n",
      "200 5% (1m 25s) 0.8956 0.8589 t, az Izraelt. Es altalkelenek a Jordanon es tabor / hungarian ✓\n",
      "Train accuracy: 0.6574\n",
      "250 6% (1m 50s) 0.8130 0.7985 hvad der er foreskrevet i HERRENs Lov, hans Histor / danish ✓\n",
      "Train accuracy: 0.6968\n",
      "Test accuracy:  0.566\n",
      "300 7% (3m 46s) 0.7904 0.7307  alo ondele kude. Amathole alo afunxa igazi; Nalap / hungarian ✗ (xhosa)\n",
      "Train accuracy: 0.7354\n",
      "350 8% (4m 16s) 0.5964 0.5965  as mulheres, vai seguindo as pisadas das ovelhas, / portuguese ✓\n",
      "Train accuracy: 0.7512\n",
      "400 10% (4m 49s) 0.5050 0.4498 e sera lo que quedare de la una parte y de la otra / spanish ✓\n",
      "Train accuracy: 0.7908\n",
      "450 11% (5m 37s) 0.6911 0.6121 r sade: >>Jag holl for sakert att du hade fattat h / swedish ✓\n",
      "Train accuracy: 0.8056\n",
      "500 12% (6m 13s) 0.6286 0.4791 as con el iracundo, Ni te acompanes con el hombre  / italian ✗ (spanish)\n",
      "Train accuracy: 0.8166\n",
      "Test accuracy:  0.637\n",
      "550 13% (7m 7s) 0.5460 0.4849 hakade. Ezi zinto wazithetha endlwini yesikhungu,  / xhosa ✓\n",
      "Train accuracy: 0.8226\n",
      "600 15% (7m 51s) 0.5486 0.4973 derezar lo que el torcio? En el dia del bien goza  / spanish ✓\n",
      "Train accuracy: 0.8494\n",
      "650 16% (8m 39s) 0.2751 0.2483 kien alapuolella oli taottuja kiehkuroita. Kussaki / finnish ✓\n",
      "Train accuracy: 0.859\n",
      "700 17% (9m 29s) 0.4095 0.3470 kaj cxiu jxetis tien orelringon el sia militakiro. / esperanto ✓\n",
      "Train accuracy: 0.8622\n",
      "750 18% (10m 24s) 0.4426 0.3745  apropie viata de locuinta mortilor. Sint pus in r / italian ✗ (romanian)\n",
      "Train accuracy: 0.8594\n",
      "Test accuracy:  0.704\n",
      "800 20% (11m 39s) 0.3719 0.3047 ae kolmivuotias hieho, kolmivuotias vuohi, kolmivu / lithuanian ✗ (finnish)\n",
      "Train accuracy: 0.8748\n",
      "850 21% (12m 31s) 0.4116 0.3655 f Shemaiah: Hattush, and Igal, and Bariah, and Nea / english ✓\n",
      "Train accuracy: 0.8792\n",
      "900 22% (13m 22s) 0.3505 0.2706  hetkensa ei ollut viela tullut. Monet kansanihmis / finnish ✓\n",
      "Train accuracy: 0.877\n",
      "950 23% (14m 15s) 0.2089 0.1970 wilike kuYehova,  sibuye namhla ekumlandeleni uYeh / xhosa ✓\n",
      "Train accuracy: 0.893\n",
      "1000 25% (15m 11s) 0.3117 0.2867 uda; und obschon sie sah, dass ich die Abtrunnige, / german ✓\n",
      "Train accuracy: 0.8992\n",
      "Test accuracy:  0.722\n",
      "1050 26% (16m 19s) 0.3560 0.2723 s made a great silence, he spake unto them in the  / english ✓\n",
      "Train accuracy: 0.9026\n",
      "1100 27% (17m 21s) 0.3020 0.2586 enut mitaan, minut hakattiin, mutta en tiennyt mit / finnish ✓\n",
      "Train accuracy: 0.908\n",
      "1150 28% (18m 25s) 0.2539 0.2153  sunaus Ahiezero auka. Vienuolikta diena aukojo As / lithuanian ✓\n",
      "Train accuracy: 0.9126\n",
      "1200 30% (19m 34s) 0.3175 0.2978  Men dersom vi domte oss selv, blev vi ikke domt;  / danish ✗ (norwegian)\n",
      "Train accuracy: 0.9052\n",
      "1250 31% (20m 46s) 0.2667 0.2219  have daubed with untempered [mortar], and bring i / english ✓\n",
      "Train accuracy: 0.9176\n",
      "Test accuracy:  0.767\n",
      "1300 32% (22m 10s) 0.2779 0.2803 emin sur; Qui rend mes pieds semblables a ceux des / french ✓\n",
      "Train accuracy: 0.915\n",
      "1350 33% (23m 29s) 0.3505 0.3031 i Ezequias ter com Isaias. E Isaias lhes disse: As / portuguese ✓\n",
      "Train accuracy: 0.9192\n",
      "1400 35% (24m 52s) 0.1574 0.1858 rbundenen, ist, und will ihn zu dem Holzstab Judas / german ✓\n",
      "Train accuracy: 0.9198\n",
      "1450 36% (26m 21s) 0.2030 0.1545 athi ukuvela komnyaka, ngexesha lokuphuma kookumka / xhosa ✓\n",
      "Train accuracy: 0.9204\n",
      "1500 37% (27m 53s) 0.1935 0.1712  Yiya kumfazi womkhuluwa wakho, umngene,  umvelise / xhosa ✓\n",
      "Train accuracy: 0.9364\n",
      "Test accuracy:  0.764\n",
      "1550 38% (29m 40s) 0.1462 0.1310 da jeg sa at I ikke vilde hjelpe, satte jeg mitt l / norwegian ✓\n",
      "Train accuracy: 0.9294\n",
      "1600 40% (31m 22s) 0.1354 0.1346 es.>> Sa svarade han da Ben-Hadads sandebud: >>Sag / swedish ✓\n",
      "Train accuracy: 0.9356\n",
      "1650 41% (33m 11s) 0.2862 0.2460 colera, segundo o temor que te e devido? Ensina-no / portuguese ✓\n",
      "Train accuracy: 0.9238\n",
      "1700 42% (35m 4s) 0.1825 0.1726 . Israil Kralinin adamlarindan biri, <<Safat oglu  / turkish ✓\n",
      "Train accuracy: 0.931\n",
      "1750 43% (37m 5s) 0.1254 0.1191 envalorajxo; en Gilgal oni oferbucxis bovojn, sed  / esperanto ✓\n",
      "Train accuracy: 0.9376\n",
      "Test accuracy:  0.77\n",
      "1800 45% (39m 21s) 0.1518 0.1319 bille saadoksensa, han antoi Israelille lakinsa ja / finnish ✓\n",
      "Train accuracy: 0.9458\n",
      "1850 46% (41m 35s) 0.1294 0.1154 lli\"?''. Atehere Jezusi u pergjigj dhe u tha atyre / albanian ✓\n",
      "Train accuracy: 0.941\n",
      "1900 47% (43m 55s) 0.1678 0.1213 ong sang, at nguoi se hieu dieu tri thuc. Ke ham h / vietnamese ✓\n",
      "Train accuracy: 0.9428\n",
      "1950 48% (46m 21s) 0.0860 0.0894 la gibi surulecek,<br />Tas yiginina donecek Yerus / turkish ✓\n",
      "Train accuracy: 0.952\n",
      "2000 50% (48m 53s) 0.2304 0.2142 ili jam pasigis la tagojn, cxe ilia returnigxo la  / esperanto ✓\n",
      "Train accuracy: 0.9468\n",
      "Test accuracy:  0.83\n",
      "2050 51% (51m 40s) 0.1049 0.0979 Ma-di-an va ca trai quan vao tay nguoi. Khi Ghe-de / vietnamese ✓\n",
      "Train accuracy: 0.9512\n",
      "2100 52% (54m 24s) 0.1954 0.1138 nak mondd meg: Ezt mondja az Ur: Te egetted meg a  / hungarian ✓\n",
      "Train accuracy: 0.9494\n",
      "2150 53% (57m 13s) 0.2431 0.2273  se levantaron los cabezas de las familias de Juda / spanish ✓\n",
      "Train accuracy: 0.9464\n",
      "2200 55% (60m 8s) 0.1109 0.0815  dijo al centurion que estaba presente: ?Os es lic / spanish ✓\n",
      "Train accuracy: 0.953\n",
      "2250 56% (63m 9s) 0.1487 0.1371  alla Israels stammar till David i Hebron och sade / swedish ✓\n",
      "Train accuracy: 0.952\n",
      "Test accuracy:  0.828\n",
      "2300 57% (66m 24s) 0.0720 0.0737  made without hands. And not even so did their wit / english ✓\n",
      "Train accuracy: 0.9526\n",
      "2350 58% (69m 34s) 0.1347 0.1079 t sig et Hjem og Svalen en Rede, hvor den har sine / danish ✓\n",
      "Train accuracy: 0.9572\n",
      "2400 60% (72m 51s) 0.1266 0.0944  sevecenlikle geri getirecegim. Bir anlik taskin o / turkish ✓\n",
      "Train accuracy: 0.9574\n",
      "2450 61% (76m 12s) 0.1153 0.0976 nular ve esenlik sunulari sundu. Yakmalik sunulari / turkish ✓\n",
      "Train accuracy: 0.954\n",
      "2500 62% (79m 38s) 0.0901 0.0651 s ott aldozzak vala az o aldozatjaikat, es ott adj / hungarian ✓\n",
      "Train accuracy: 0.9616\n",
      "Test accuracy:  0.805\n",
      "2550 63% (83m 18s) 0.1256 0.1043 az o angyalait nagy trombitaszoval, es egybegyujti / hungarian ✓\n",
      "Train accuracy: 0.9504\n",
      "Test accuracy:  0.818\n",
      "2600 65% (87m 4s) 0.2049 0.2086 ai certamente preso, e sarai dato in sua mano; i t / italian ✓\n",
      "Train accuracy: 0.9552\n",
      "Test accuracy:  0.806\n",
      "2650 66% (90m 55s) 0.1462 0.1099 onn: De skal ikke holde sorgehoitid over ham og ro / norwegian ✓\n",
      "Train accuracy: 0.9602\n",
      "Test accuracy:  0.81\n",
      "2700 67% (94m 51s) 0.0989 0.0993 ldte jeg min Son.\" Da Herodes nu sa, at han var bl / danish ✓\n",
      "Train accuracy: 0.9642\n",
      "Test accuracy:  0.823\n",
      "2750 68% (98m 51s) 0.1493 0.1236  fecero incontro dieci uomini lebbrosi, i quali, f / italian ✓\n",
      "Train accuracy: 0.96\n",
      "Test accuracy:  0.803\n",
      "2800 70% (102m 57s) 0.1721 0.1583 do t'i vije turp edhe Birit te njeriut, kur te arr / albanian ✓\n",
      "Train accuracy: 0.9628\n",
      "Test accuracy:  0.842\n",
      "2850 71% (107m 8s) 0.2528 0.2257 ? Da vilja vi gora efa-mattet mindre och priset ho / swedish ✓\n",
      "Train accuracy: 0.9566\n",
      "Test accuracy:  0.829\n",
      "2900 72% (111m 22s) 0.0976 0.1126 a och graten infor HERRENS ansikte.  Men HERREN ho / swedish ✓\n",
      "Train accuracy: 0.9624\n",
      "Test accuracy:  0.822\n",
      "2950 73% (115m 39s) 0.1006 0.0674  nen lai noi cung dan chung nua. Song chung keu le / vietnamese ✓\n",
      "Train accuracy: 0.9668\n",
      "Test accuracy:  0.842\n",
      "3000 75% (119m 57s) 0.1477 0.1195  har forstand till att kanna mig: att jag ar HERRE / swedish ✓\n",
      "Train accuracy: 0.9658\n",
      "Test accuracy:  0.85\n",
      "3050 76% (124m 22s) 0.1067 0.1119 hitini, hopi noa iho ratou, nui atu te wehi. P Na, / maori ✓\n",
      "Train accuracy: 0.9636\n",
      "Test accuracy:  0.837\n",
      "3100 77% (128m 51s) 0.1223 0.0971  cua cau, ma cau lai con thay doi muoi lan cong gi / vietnamese ✓\n",
      "Train accuracy: 0.9658\n",
      "Test accuracy:  0.833\n",
      "3150 78% (133m 25s) 0.0662 0.0474 une fille pour femme. Or, Jacob apprit qu'il avait / french ✓\n",
      "Train accuracy: 0.968\n",
      "Test accuracy:  0.828\n",
      "3200 80% (138m 1s) 0.0739 0.0606  finito di parlare con lui, Iddio lascio Abrahamo, / italian ✓\n",
      "Train accuracy: 0.9666\n",
      "Test accuracy:  0.825\n",
      "3250 81% (142m 41s) 0.1386 0.0852 e i perqafoi. Pastaj Izraeli i tha Jozefit: \"Une n / albanian ✓\n",
      "Train accuracy: 0.9694\n"
     ]
    },
    {
     "name": "stdout",
     "output_type": "stream",
     "text": [
      "Test accuracy:  0.847\n",
      "3300 82% (147m 25s) 0.0298 0.0240 askysta julisti. (H37:3-5)Niihin aikoihin faraon s / finnish ✓\n",
      "Train accuracy: 0.9668\n",
      "Test accuracy:  0.804\n",
      "3350 83% (152m 10s) 0.1454 0.1351 Hefero sunus Celofhadas neturejo sunu, tik dukteri / lithuanian ✓\n",
      "Train accuracy: 0.9702\n",
      "Test accuracy:  0.851\n",
      "3400 85% (157m 2s) 0.0508 0.0414 amararol-kamarara. Es mondanak neki az o szolgai:  / hungarian ✓\n",
      "Train accuracy: 0.9652\n",
      "Test accuracy:  0.834\n",
      "3450 86% (161m 58s) 0.0870 0.0563 t il vit Isaac qui se jouait avec Rebecca, sa femm / french ✓\n",
      "Train accuracy: 0.9718\n",
      "Test accuracy:  0.831\n",
      "3500 87% (166m 58s) 0.0650 0.0471 ti manes Egipte. As noreciau atsigulti salia savo  / lithuanian ✓\n",
      "Train accuracy: 0.9712\n",
      "Test accuracy:  0.831\n",
      "3550 88% (172m 3s) 0.0620 0.0592 he in questa citta saranno scampati dalla peste, d / italian ✓\n",
      "Train accuracy: 0.9684\n",
      "Test accuracy:  0.842\n",
      "3600 90% (177m 9s) 0.1130 0.0734 omo, tiu min akceptas; kaj kiu min akceptos, tiu a / esperanto ✓\n",
      "Train accuracy: 0.9698\n",
      "Test accuracy:  0.844\n",
      "3650 91% (182m 20s) 0.0969 0.0300 gokomlomo kaYehova, onke loo madoda, eziintloko zo / xhosa ✓\n",
      "Train accuracy: 0.9732\n",
      "Test accuracy:  0.873\n",
      "3700 92% (187m 35s) 0.0520 0.0370  Porque ejemplo os he dado, para que como yo os he / spanish ✓\n",
      "Train accuracy: 0.9714\n",
      "Test accuracy:  0.861\n",
      "3750 93% (192m 54s) 0.1040 0.1027 li se do zidovske synagogy. Zide v Beroji byli pri / czech ✓\n",
      "Train accuracy: 0.9718\n",
      "Test accuracy:  0.852\n",
      "3800 95% (198m 17s) 0.0812 0.0695 aga David a Siriabeliek kozul huszonketezer ferfit / hungarian ✓\n",
      "Train accuracy: 0.9678\n",
      "Test accuracy:  0.862\n",
      "3850 96% (203m 45s) 0.1522 0.1365 is for el la domo. Kaj sxi kusxigis lian veston ap / esperanto ✓\n",
      "Train accuracy: 0.9744\n",
      "Test accuracy:  0.845\n",
      "3900 97% (209m 18s) 0.0888 0.0672 empo kaj du tempoj kaj duono de tempo. Poste apero / esperanto ✓\n",
      "Train accuracy: 0.9716\n",
      "Test accuracy:  0.85\n",
      "3950 98% (214m 53s) 0.1181 0.0811 s David y la gente que con el estaba, alzaron su v / spanish ✓\n",
      "Train accuracy: 0.9722\n",
      "Test accuracy:  0.859\n",
      "4000 100% (220m 34s) 0.1407 0.1045 si o oaie de un an fara cusur, trei zecimi dintr'o / romanian ✓\n",
      "Train accuracy: 0.9716\n",
      "Test accuracy:  0.847\n"
     ]
    }
   ],
   "source": [
    "n_iters = 4000 #100000\n",
    "print_every = 50\n",
    "plot_every = 50\n",
    "\n",
    "\n",
    "# Keep track of losses for plotting\n",
    "current_loss = 0\n",
    "current_test_loss = 0\n",
    "all_losses = []\n",
    "all_test_losses = []\n",
    "\n",
    "start = time.time()\n",
    "\n",
    "optimizer = torch.optim.Adam(rnn.parameters(), lr=learning_rate)\n",
    "\n",
    "\n",
    "number_correct = 0\n",
    "for iter in range(1, n_iters + 1):\n",
    "    input_data, target_category, text_data = load_random_batch(train_category_data, chunk_len, BATCH_SIZE)\n",
    "    output, loss = train(rnn, target_category, input_data, optimizer, criterion)\n",
    "    current_loss += loss\n",
    "    \n",
    "    _, test_loss = eval_test(rnn, target_category, input_data)\n",
    "    current_test_loss += test_loss\n",
    "    \n",
    "    guess_i = categoryFromOutput(output)\n",
    "    number_correct += (target_category.squeeze()==guess_i.squeeze()).long().sum()\n",
    "    \n",
    "    # Print iter number, loss, name and guess\n",
    "    if iter % print_every == 0:\n",
    "        sample_idx = 0\n",
    "        guess = all_categories[guess_i[sample_idx]]\n",
    "        \n",
    "        category = all_categories[int(target_category[sample_idx])]\n",
    "        \n",
    "        correct = '✓' if guess == category else '✗ (%s)' % category\n",
    "        print('%d %d%% (%s) %.4f %.4f %s / %s %s' % (iter, iter / n_iters * 100, time_since(start), loss, test_loss, text_data[sample_idx], guess, correct))\n",
    "        print('Train accuracy: {}'.format(float(number_correct)/float(print_every*BATCH_SIZE)))\n",
    "        number_correct = 0\n",
    "    \n",
    "    # Add current loss avg to list of losses\n",
    "    if iter % plot_every == 0:\n",
    "        all_losses.append(current_loss / plot_every)\n",
    "        current_loss = 0\n",
    "        all_test_losses.append(current_test_loss / plot_every)\n",
    "        current_test_loss = 0\n",
    "    if iter % (print_every*5) == 0 or (iter > 2500 and iter % (print_every) == 0):\n",
    "        eval_batch_size = 1  # needs to be set to 1 for evaluating different sequence lengths\n",
    "\n",
    "        # Keep track of correct guesses in a confusion matrix\n",
    "        confusion = torch.zeros(n_languages, n_languages)\n",
    "        n_confusion = 1000\n",
    "        num_correct = 0\n",
    "        total = 0\n",
    "\n",
    "        for i in range(n_confusion):\n",
    "            eval_chunk_len = random.randint(10, 50) # in evaluation we will look at sequences of variable sizes\n",
    "            input_data, target_category, text_data = load_random_batch(test_category_data, chunk_len=eval_chunk_len, batch_size=eval_batch_size)\n",
    "            output = evaluate(rnn, input_data, seq_len=eval_chunk_len, batch_size=eval_batch_size)\n",
    "\n",
    "            guess_i = categoryFromOutput(output)\n",
    "            category_i = [int(target_category[idx]) for idx in range(len(target_category))]\n",
    "            for j in range(eval_batch_size):\n",
    "                category = all_categories[category_i[j]] \n",
    "                confusion[category_i[j]][guess_i[j]] += 1\n",
    "                num_correct += int(guess_i[j]==category_i[j])\n",
    "                total += 1\n",
    "\n",
    "        print('Test accuracy: ', float(num_correct)/float(n_confusion*eval_batch_size))\n",
    "        if float(num_correct)/float(n_confusion*eval_batch_size) > .89 or iter == 250:\n",
    "            torch.save(rnn.state_dict(), './rnn_classifier'+str(iter)+'.pth')\n",
    "            kaggle_test_file_path = 'language_data/kaggle_rnn_language_classification_test.txt'\n",
    "            with open(kaggle_test_file_path, 'r') as f:\n",
    "                lines = f.readlines()\n",
    "\n",
    "            output_rows = []\n",
    "            for i, line in enumerate(lines):\n",
    "                sample = line.rstrip()\n",
    "                sample_chunk_len = len(sample)\n",
    "                input_data = stringToTensor(sample).unsqueeze(0)\n",
    "                output = evaluate(rnn, input_data, seq_len=sample_chunk_len, batch_size=1)\n",
    "                guess_i = categoryFromOutput(output)\n",
    "                output_rows.append((str(i+1), all_categories[guess_i]))\n",
    "\n",
    "            submission_file_path = 'kaggle_rnn_submission'+str(iter)+'.txt'\n",
    "            with open(submission_file_path, 'w') as f:\n",
    "                output_rows = [('id', 'category')] + output_rows\n",
    "                writer = csv.writer(f)\n",
    "                writer.writerows(output_rows)\n"
   ]
  },
  {
   "cell_type": "markdown",
   "metadata": {},
   "source": [
    "Plot loss functions\n",
    "--------------------\n",
    "\n"
   ]
  },
  {
   "cell_type": "code",
   "execution_count": 12,
   "metadata": {
    "scrolled": true
   },
   "outputs": [
    {
     "data": {
      "text/plain": [
       "[<matplotlib.lines.Line2D at 0x23116baa2e8>]"
      ]
     },
     "execution_count": 12,
     "metadata": {},
     "output_type": "execute_result"
    },
    {
     "data": {
      "image/png": "[encoded data removed]",
      "text/plain": [
       "<Figure size 432x288 with 1 Axes>"
      ]
     },
     "metadata": {
      "needs_background": "light"
     },
     "output_type": "display_data"
    }
   ],
   "source": [
    "import matplotlib.pyplot as plt\n",
    "import matplotlib.ticker as ticker\n",
    "\n",
    "plt.figure()\n",
    "plt.plot(all_losses, color='b')\n",
    "plt.plot(all_test_losses, color='r')"
   ]
  },
  {
   "cell_type": "markdown",
   "metadata": {},
   "source": [
    "Evaluate results\n",
    "-------------------\n",
    "\n",
    "We now vizualize the performance of our model by creating a confusion matrix. The ground truth languages of samples are represented by rows in the matrix while the predicted languages are represented by columns.\n",
    "\n",
    "In this evaluation we consider sequences of variable sizes rather than the fixed length sequences we used for training."
   ]
  },
  {
   "cell_type": "code",
   "execution_count": 13,
   "metadata": {},
   "outputs": [
    {
     "name": "stdout",
     "output_type": "stream",
     "text": [
      "Test accuracy:  0.842\n"
     ]
    },
    {
     "data": {
      "image/png": "[encoded data removed]",
      "text/plain": [
       "<Figure size 432x288 with 2 Axes>"
      ]
     },
     "metadata": {
      "needs_background": "light"
     },
     "output_type": "display_data"
    }
   ],
   "source": [
    "eval_batch_size = 1  # needs to be set to 1 for evaluating different sequence lengths\n",
    "\n",
    "# Keep track of correct guesses in a confusion matrix\n",
    "confusion = torch.zeros(n_languages, n_languages)\n",
    "n_confusion = 1000\n",
    "num_correct = 0\n",
    "total = 0\n",
    "\n",
    "for i in range(n_confusion):\n",
    "    eval_chunk_len = random.randint(10, 50) # in evaluation we will look at sequences of variable sizes\n",
    "    input_data, target_category, text_data = load_random_batch(test_category_data, chunk_len=eval_chunk_len, batch_size=eval_batch_size)\n",
    "    output = evaluate(rnn, input_data, seq_len=eval_chunk_len, batch_size=eval_batch_size)\n",
    "    \n",
    "    guess_i = categoryFromOutput(output)\n",
    "    category_i = [int(target_category[idx]) for idx in range(len(target_category))]\n",
    "    for j in range(eval_batch_size):\n",
    "        category = all_categories[category_i[j]] \n",
    "        confusion[category_i[j]][guess_i[j]] += 1\n",
    "        num_correct += int(guess_i[j]==category_i[j])\n",
    "        total += 1\n",
    "\n",
    "print('Test accuracy: ', float(num_correct)/float(n_confusion*eval_batch_size))\n",
    "\n",
    "# Normalize by dividing every row by its sum\n",
    "for i in range(n_languages):\n",
    "    confusion[i] = confusion[i] / confusion[i].sum()\n",
    "\n",
    "# Set up plot\n",
    "fig = plt.figure()\n",
    "ax = fig.add_subplot(111)\n",
    "cax = ax.matshow(confusion.numpy())\n",
    "fig.colorbar(cax)\n",
    "\n",
    "# Set up axes\n",
    "ax.set_xticklabels([''] + all_categories, rotation=90)\n",
    "ax.set_yticklabels([''] + all_categories)\n",
    "\n",
    "# Force label at every tick\n",
    "ax.xaxis.set_major_locator(ticker.MultipleLocator(1))\n",
    "ax.yaxis.set_major_locator(ticker.MultipleLocator(1))\n",
    "\n",
    "plt.show()"
   ]
  },
  {
   "cell_type": "markdown",
   "metadata": {},
   "source": [
    "You can pick out bright spots off the main axis that show which\n",
    "languages it guesses incorrectly.\n",
    "\n",
    "\n"
   ]
  },
  {
   "cell_type": "markdown",
   "metadata": {},
   "source": [
    "Run on User Input\n",
    "---------------------\n",
    "\n",
    "Now you can test your model on your own input. \n"
   ]
  },
  {
   "cell_type": "code",
   "execution_count": 14,
   "metadata": {},
   "outputs": [
    {
     "name": "stdout",
     "output_type": "stream",
     "text": [
      "\n",
      "> This is a phrase to test the model on user input\n",
      "(11.04) english\n",
      "(2.82) german\n",
      "(1.89) spanish\n",
      "(1.39) french\n",
      "(1.26) vietnamese\n"
     ]
    }
   ],
   "source": [
    "def predict(input_line, n_predictions=5):\n",
    "    print('\\n> %s' % input_line)\n",
    "    with torch.no_grad():\n",
    "        input_data = stringToTensor(input_line).long().unsqueeze(0).to(device)\n",
    "        output = evaluate(rnn, input_data, seq_len=len(input_line), batch_size=1)\n",
    "\n",
    "    # Get top N categories\n",
    "    topv, topi = output.topk(n_predictions, dim=1)\n",
    "    predictions = []\n",
    "\n",
    "    for i in range(n_predictions):\n",
    "        topv.shape\n",
    "        topi.shape\n",
    "        value = topv[0][i].item()\n",
    "        category_index = topi[0][i].item()\n",
    "        print('(%.2f) %s' % (value, all_categories[category_index]))\n",
    "        predictions.append([value, all_categories[category_index]])\n",
    "\n",
    "predict('This is a phrase to test the model on user input')\n"
   ]
  },
  {
   "cell_type": "markdown",
   "metadata": {},
   "source": [
    "# Output Kaggle submission file\n",
    "\n",
    "Once you have found a good set of hyperparameters submit the output of your model on the Kaggle test file."
   ]
  },
  {
   "cell_type": "code",
   "execution_count": 15,
   "metadata": {},
   "outputs": [],
   "source": [
    "### DO NOT CHANGE KAGGLE SUBMISSION CODE ####\n",
    "import csv\n",
    "\n",
    "kaggle_test_file_path = 'language_data/kaggle_rnn_language_classification_test.txt'\n",
    "with open(kaggle_test_file_path, 'r') as f:\n",
    "    lines = f.readlines()\n",
    "\n",
    "output_rows = []\n",
    "for i, line in enumerate(lines):\n",
    "    sample = line.rstrip()\n",
    "    sample_chunk_len = len(sample)\n",
    "    input_data = stringToTensor(sample).unsqueeze(0)\n",
    "    output = evaluate(rnn, input_data, seq_len=sample_chunk_len, batch_size=1)\n",
    "    guess_i = categoryFromOutput(output)\n",
    "    output_rows.append((str(i+1), all_categories[guess_i]))\n",
    "\n",
    "submission_file_path = 'kaggle_rnn_submission.txt'\n",
    "with open(submission_file_path, 'w') as f:\n",
    "    output_rows = [('id', 'category')] + output_rows\n",
    "    writer = csv.writer(f)\n",
    "    writer.writerows(output_rows)\n"
   ]
  },
  {
   "cell_type": "code",
   "execution_count": null,
   "metadata": {},
   "outputs": [],
   "source": []
  }
 ],
 "metadata": {
  "kernelspec": {
   "display_name": "Python 3",
   "language": "python",
   "name": "python3"
  },
  "language_info": {
   "codemirror_mode": {
    "name": "ipython",
    "version": 3
   },
   "file_extension": ".py",
   "mimetype": "text/x-python",
   "name": "python",
   "nbconvert_exporter": "python",
   "pygments_lexer": "ipython3",
   "version": "3.7.3"
  }
 },
 "nbformat": 4,
 "nbformat_minor": 2
}
