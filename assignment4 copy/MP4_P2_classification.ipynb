{
 "cells": [
  {
   "cell_type": "code",
   "execution_count": 1,
   "metadata": {},
   "outputs": [],
   "source": [
    "import os\n",
    "import time\n",
    "import math\n",
    "import glob\n",
    "import string\n",
    "import random \n",
    "\n",
    "import torch\n",
    "import torch.nn as nn\n",
    "\n",
    "from rnn.helpers import time_since\n",
    "\n",
    "%matplotlib inline"
   ]
  },
  {
   "cell_type": "code",
   "execution_count": 2,
   "metadata": {},
   "outputs": [],
   "source": [
    "device = torch.device(\"cuda:0\" if torch.cuda.is_available() else \"cpu\")"
   ]
  },
  {
   "cell_type": "markdown",
   "metadata": {},
   "source": [
    "# Language recognition with an RNN\n",
    "\n",
    "If you've ever used an online translator you've probably seen a feature that automatically detects the input language. While this might be easy to do if you input unicode characters that are unique to one or a small group of languages (like \"你好\" or \"γεια σας\"), this problem is more challenging if the input only uses the available ASCII characters. In this case, something like \"těší mě\" would beome \"tesi me\" in the ascii form. This is a more challenging problem in which the language must be recognized purely by the pattern of characters rather than unique unicode characters.\n",
    "\n",
    "We will train an RNN to solve this problem for a small set of languages thta can be converted to romanized ASCII form. For training data it would be ideal to have a large and varied dataset in different language styles. However, it is easy to find copies of the Bible which is a large text translated to different languages but in the same easily parsable format, so we will use 20 different copies of the Bible as training data. Using the same book for all of the different languages will hopefully prevent minor overfitting that might arise if we used different books for each language (fitting to common characteristics of the individual books rather than the language)."
   ]
  },
  {
   "cell_type": "code",
   "execution_count": 3,
   "metadata": {},
   "outputs": [
    {
     "name": "stdout",
     "output_type": "stream",
     "text": [
      "tesi me\n"
     ]
    }
   ],
   "source": [
    "from unidecode import unidecode as unicodeToAscii\n",
    "\n",
    "all_characters = string.printable\n",
    "n_letters = len(all_characters)\n",
    "\n",
    "print(unicodeToAscii('těší mě'))"
   ]
  },
  {
   "cell_type": "code",
   "execution_count": 4,
   "metadata": {},
   "outputs": [],
   "source": [
    "# Read a file and split into lines\n",
    "def readFile(filename):\n",
    "    data = open(filename, encoding='utf-8').read().strip()\n",
    "    return unicodeToAscii(data)\n",
    "\n",
    "def get_category_data(data_path):\n",
    "    # Build the category_data dictionary, a list of names per language\n",
    "    category_data = {}\n",
    "    all_categories = []\n",
    "    for filename in glob.glob(data_path):\n",
    "        category = os.path.splitext(os.path.basename(filename))[0].split('_')[0]\n",
    "        all_categories.append(category)\n",
    "        data = readFile(filename)\n",
    "        category_data[category] = data\n",
    "    \n",
    "    return category_data, all_categories"
   ]
  },
  {
   "cell_type": "markdown",
   "metadata": {},
   "source": [
    "The original text is split into two parts, train and test, so that we can make sure that the model is not simply memorizing the train data."
   ]
  },
  {
   "cell_type": "code",
   "execution_count": 5,
   "metadata": {},
   "outputs": [
    {
     "name": "stdout",
     "output_type": "stream",
     "text": [
      "20\n",
      "['english', 'esperanto', 'albanian', 'finnish', 'spanish', 'italian', 'lithuanian', 'french', 'maori', 'romanian', 'german', 'portuguese', 'turkish', 'swedish', 'hungarian', 'czech', 'vietnamese', 'xhosa', 'danish', 'norwegian']\n"
     ]
    }
   ],
   "source": [
    "train_data_path = 'language_data/train/*_train.txt'\n",
    "test_data_path = 'language_data/test/*_test.txt'\n",
    "\n",
    "train_category_data, all_categories = get_category_data(train_data_path)\n",
    "test_category_data, test_all_categories = get_category_data(test_data_path)\n",
    "\n",
    "n_languages = len(all_categories)\n",
    "\n",
    "print(len(all_categories))\n",
    "print(all_categories)"
   ]
  },
  {
   "cell_type": "markdown",
   "metadata": {},
   "source": [
    "# Data processing"
   ]
  },
  {
   "cell_type": "code",
   "execution_count": 6,
   "metadata": {},
   "outputs": [],
   "source": [
    "def categoryFromOutput(output):\n",
    "    top_n, top_i = output.topk(1, dim=1)\n",
    "    category_i = top_i[:, 0]\n",
    "    return category_i\n",
    "\n",
    "# Turn string into long tensor\n",
    "def stringToTensor(string):\n",
    "    tensor = torch.zeros(len(string), requires_grad=True).long()\n",
    "    for c in range(len(string)):\n",
    "        tensor[c] = all_characters.index(string[c])\n",
    "    return tensor\n",
    "\n",
    "def load_random_batch(text, chunk_len, batch_size):\n",
    "    input_data = torch.zeros(batch_size, chunk_len).long().to(device)\n",
    "    target = torch.zeros(batch_size, 1).long().to(device)\n",
    "    input_text = []\n",
    "    for i in range(batch_size):\n",
    "        category = all_categories[random.randint(0, len(all_categories) - 1)]\n",
    "        line_start = random.randint(0, len(text[category])-chunk_len)\n",
    "        category_tensor = torch.tensor([all_categories.index(category)], dtype=torch.long)\n",
    "        line = text[category][line_start:line_start+chunk_len]\n",
    "        input_text.append(line)\n",
    "        input_data[i] = stringToTensor(line)\n",
    "        target[i] = category_tensor\n",
    "    return input_data, target, input_text"
   ]
  },
  {
   "cell_type": "markdown",
   "metadata": {},
   "source": [
    "Implement Model\n",
    "====================\n",
    "\n",
    "For this classification task, we can use the same model we implement for the generation task which is located in `rnn/model.py`. See the `MP4_P2_generation.ipynb` notebook for more instructions. In this case each output vector of our RNN will have the dimension of the number of possible languages (i.e. `n_languages`). We will use this vector to predict a distribution over the languages.\n",
    "\n",
    "In the generation task, we used the output of the RNN at every time step to predict the next letter and our loss included the output from each of these predictions. However, in this task we use the output of the RNN at the end of the sequence to predict the language, so our loss function will use only the predicted output from the last time step.\n",
    "\n"
   ]
  },
  {
   "cell_type": "markdown",
   "metadata": {},
   "source": [
    "# Train RNN"
   ]
  },
  {
   "cell_type": "code",
   "execution_count": 7,
   "metadata": {},
   "outputs": [],
   "source": [
    "from rnn.model import RNN"
   ]
  },
  {
   "cell_type": "code",
   "execution_count": 8,
   "metadata": {},
   "outputs": [],
   "source": [
    "chunk_len = 50\n",
    "\n",
    "BATCH_SIZE = 100\n",
    "n_epochs = 10000\n",
    "hidden_size = 160\n",
    "n_layers = 3\n",
    "learning_rate = 0.0001\n",
    "model_type = 'lstm'\n",
    "\n",
    "criterion = nn.CrossEntropyLoss()\n",
    "rnn = RNN(n_letters, hidden_size, n_languages, model_type=model_type, n_layers=n_layers).to(device)"
   ]
  },
  {
   "cell_type": "markdown",
   "metadata": {},
   "source": [
    "**TODO:** Fill in the train function. You should initialize a hidden layer representation using your RNN's `init_hidden` function, set the model gradients to zero, and loop over each time step (character) in the input tensor. For each time step compute the output of the of the RNN and the next hidden layer representation. The cross entropy loss should be computed over the last RNN output scores from the end of the sequence and the target classification tensor. Lastly, call backward on the loss and take an optimizer step."
   ]
  },
  {
   "cell_type": "code",
   "execution_count": 9,
   "metadata": {},
   "outputs": [],
   "source": [
    "def train(rnn, target_tensor, data_tensor, optimizer, criterion, batch_size=BATCH_SIZE):\n",
    "    \"\"\"\n",
    "    Inputs:\n",
    "    - rnn: model\n",
    "    - target_target: target character data tensor of shape (batch_size, 1)\n",
    "    - data_tensor: input character data tensor of shape (batch_size, chunk_len)\n",
    "    - optimizer: rnn model optimizer\n",
    "    - criterion: loss function\n",
    "    - batch_size: data batch size\n",
    "    \n",
    "    Returns:\n",
    "    - output: output from RNN from end of sequence \n",
    "    - loss: computed loss value as python float\n",
    "    \n",
    "    \"\"\"\n",
    "    \n",
    "    output, loss = None, None\n",
    "    \n",
    "    ####################################\n",
    "    #          YOUR CODE HERE          #\n",
    "    ####################################\n",
    "    hidden = rnn.init_hidden(data_tensor.shape[0])\n",
    "    rnn.zero_grad()\n",
    "    for i in range(chunk_len):\n",
    "        output, hidden = rnn(data_tensor[:, i], hidden)\n",
    "    loss = criterion(output.reshape(batch_size, -1), target_tensor.squeeze())\n",
    "    loss.backward()\n",
    "    optimizer.step()\n",
    "    \n",
    "    ##########       END      ##########\n",
    "\n",
    "    return output, loss\n",
    "    "
   ]
  },
  {
   "cell_type": "code",
   "execution_count": 10,
   "metadata": {},
   "outputs": [],
   "source": [
    "def evaluate(rnn, data_tensor, seq_len=chunk_len, batch_size=BATCH_SIZE):\n",
    "    with torch.no_grad():\n",
    "        data_tensor = data_tensor.to(device)\n",
    "        hidden = rnn.init_hidden(batch_size, device=device)\n",
    "        for i in range(seq_len):\n",
    "            output, hidden = rnn(data_tensor[:,i], hidden)\n",
    "        \n",
    "        return output\n",
    "    \n",
    "def eval_test(rnn, category_tensor, data_tensor):\n",
    "    with torch.no_grad():\n",
    "        output = evaluate(rnn, data_tensor)\n",
    "        loss = criterion(output, category_tensor.squeeze())\n",
    "        return output, loss.item()"
   ]
  },
  {
   "cell_type": "code",
   "execution_count": 11,
   "metadata": {
    "scrolled": true
   },
   "outputs": [
    {
     "name": "stdout",
     "output_type": "stream",
     "text": [
      "50 1% (0m 29s) 2.6666 2.6383 gebracht; wir wollen jauchzen und uns deiner freue / albanian ✗ (german)\n",
      "Train accuracy: 0.1188\n",
      "100 2% (0m 59s) 1.9231 1.9062 ngjit nga Cezarea ne Jeruzalem. Kryeprifti dhe kre / albanian ✓\n",
      "Train accuracy: 0.2716\n",
      "150 3% (1m 28s) 1.4920 1.4839  Israel su siervo, Porque para siempre es su miser / french ✗ (spanish)\n",
      "Train accuracy: 0.4568\n",
      "200 4% (2m 3s) 1.3495 1.3558 y kral rekl Josafatovi: \"Nerekl jsem ti, ze mi neb / hungarian ✗ (czech)\n",
      "Train accuracy: 0.5564\n",
      "250 5% (2m 33s) 0.9918 0.9699 ly concerning him. Do not thou therefore yield unt / english ✓\n",
      "Train accuracy: 0.6294\n",
      "300 6% (3m 2s) 1.0261 1.0251 o de nossos alforjes se acabou, e presente nenhum  / spanish ✗ (portuguese)\n",
      "Train accuracy: 0.6752\n",
      "350 7% (3m 40s) 0.9252 0.8909 mnye umfundi. Loo mfundi ke wayesazeka kumbingelel / xhosa ✓\n",
      "Train accuracy: 0.713\n",
      "400 8% (4m 18s) 0.7456 0.7348 enem az erosek; a nelkul, hogy hibas vagy vetkes v / hungarian ✓\n",
      "Train accuracy: 0.7318\n",
      "450 9% (4m 58s) 0.7120 0.7113 tangata nana, te ai he whakahe ake: ko te ki a o r / maori ✓\n",
      "Train accuracy: 0.7536\n",
      "500 10% (5m 36s) 0.6464 0.6386  es monda: Azt gondolod-e igaznak, ha igy szolsz:  / hungarian ✓\n",
      "Train accuracy: 0.7744\n",
      "550 11% (6m 18s) 0.5461 0.5199 descendants de Juda descendirent pour combattre co / french ✓\n",
      "Train accuracy: 0.7926\n",
      "600 12% (6m 53s) 0.5554 0.5302 g lived thirty years, and begat Reu: and Peleg liv / english ✓\n",
      "Train accuracy: 0.8086\n",
      "650 13% (7m 23s) 0.3415 0.3171 a. Percio la legge e senza forza e il diritto non  / esperanto ✗ (italian)\n",
      "Train accuracy: 0.8188\n",
      "700 14% (7m 53s) 0.4717 0.4484 yet. Mert o ellat a fold hatarira, o lat mindent a / swedish ✗ (hungarian)\n",
      "Train accuracy: 0.8384\n",
      "750 15% (8m 24s) 0.3652 0.3489 forat ikke min harme skal fare ut som ild og brenn / danish ✗ (norwegian)\n",
      "Train accuracy: 0.8608\n",
      "800 16% (8m 54s) 0.5018 0.4227 azia, lasciandoci alcuni superstiti, e concedendoc / italian ✓\n",
      "Train accuracy: 0.8476\n",
      "850 17% (9m 24s) 0.3908 0.3668 escucharon para recibir correccion: Antes asentaro / spanish ✓\n",
      "Train accuracy: 0.865\n",
      "900 18% (9m 54s) 0.3632 0.3225 oli di Ghiddel, i figliuoli di Scefatia, i figliuo / italian ✓\n",
      "Train accuracy: 0.8664\n",
      "950 19% (10m 24s) 0.4348 0.4085 e tuoksusta. Mina teen teidan maanne niin autioksi / finnish ✓\n",
      "Train accuracy: 0.8804\n",
      "1000 20% (10m 54s) 0.3487 0.3145 egos; sim, como os que nao tem olhos andamos apalp / spanish ✗ (portuguese)\n",
      "Train accuracy: 0.8846\n",
      "1050 21% (11m 25s) 0.2344 0.2466 ului, cum poruncise lui Moise Domnul. Domnul a vor / romanian ✓\n",
      "Train accuracy: 0.8828\n",
      "1100 22% (11m 55s) 0.2430 0.2377 iec cuc nhoc qua cho toi, Cho den khi toi vao noi  / vietnamese ✓\n",
      "Train accuracy: 0.9016\n",
      "1150 23% (12m 25s) 0.2083 0.1965 t per te pare nese keto gjera ishin ashtu. Shume n / albanian ✓\n",
      "Train accuracy: 0.8956\n",
      "1200 24% (12m 56s) 0.1839 0.1853 ki az Izrael nemzetsegei kozul, a ki nem jott fel  / hungarian ✓\n",
      "Train accuracy: 0.8934\n",
      "1250 25% (13m 26s) 0.2829 0.2528  Vel, du setter din lit til Egypten, denne knekked / danish ✗ (norwegian)\n",
      "Train accuracy: 0.9096\n",
      "1300 26% (13m 56s) 0.2854 0.2530  Paulius. Festas prabilo: \"Karaliau Agripa ir visi / lithuanian ✓\n",
      "Train accuracy: 0.9074\n",
      "1350 27% (14m 25s) 0.2861 0.2726 na varlata nebo uriznuty pyj. Do Hospodinova shrom / czech ✓\n",
      "Train accuracy: 0.918\n",
      "1400 28% (14m 54s) 0.2514 0.2409 ollst nicht zu seinem Weibe gehen; denn sie ist de / german ✓\n",
      "Train accuracy: 0.9184\n",
      "1450 28% (15m 23s) 0.0959 0.0817 tatus ir isakymus Viespats dave izraelitams per Mo / lithuanian ✓\n",
      "Train accuracy: 0.9216\n",
      "1500 30% (15m 52s) 0.2189 0.2006  stii ca vei muri negresit, tu si tot ce -i al tau / romanian ✓\n",
      "Train accuracy: 0.9198\n",
      "1550 31% (16m 21s) 0.3152 0.2672 s mes amants, qui me donnent mon pain et mon eau,  / french ✓\n",
      "Train accuracy: 0.919\n",
      "1600 32% (16m 50s) 0.1694 0.1640  bona kaj plej digna el la filoj de via sinjoro, k / esperanto ✓\n",
      "Train accuracy: 0.9248\n",
      "1650 33% (17m 19s) 0.1941 0.1694 s cuando se enriquece alguno, Cuando aumenta la gl / italian ✗ (spanish)\n",
      "Train accuracy: 0.9316\n",
      "1700 34% (17m 49s) 0.1643 0.1591 r arken. Och du skall fora bordet ditin och lagga  / swedish ✓\n",
      "Train accuracy: 0.928\n",
      "1750 35% (18m 18s) 0.1143 0.0994 rit e Arabise dhe qeveritaret e vendit i sillnin S / albanian ✓\n",
      "Train accuracy: 0.9338\n",
      "1800 36% (18m 46s) 0.1499 0.1246 la cong binh! Ta se dem nhung phu tu cua So-dom va / vietnamese ✓\n",
      "Train accuracy: 0.93\n",
      "1850 37% (19m 16s) 0.2016 0.1785 ket, men han kom Rogelsen pa og skaffede Folket So / danish ✓\n",
      "Train accuracy: 0.9384\n",
      "1900 38% (19m 45s) 0.2480 0.2282 z esztendeig uralkodott Jeruzsalemben; anyjanak ne / hungarian ✓\n",
      "Train accuracy: 0.9364\n",
      "1950 39% (20m 14s) 0.2155 0.1992 jaro, kaj gxi alportos produktajxojn por tri jaroj / esperanto ✓\n",
      "Train accuracy: 0.9428\n",
      "2000 40% (20m 43s) 0.1480 0.1302 ch weinen; gebt euch keine Muhe, mich zu trosten u / german ✓\n",
      "Train accuracy: 0.9386\n",
      "2050 41% (21m 12s) 0.1867 0.1517 ldan esenlikle geciyor. Bunlari yapip gerceklestir / turkish ✓\n",
      "Train accuracy: 0.9446\n",
      "2100 42% (21m 41s) 0.1215 0.1066  wer sollte bei dir einkehren, um sich nach deinem / german ✓\n",
      "Train accuracy: 0.944\n",
      "2150 43% (22m 12s) 0.2113 0.1934 her; and in the twelfth year he began to purge Jud / english ✓\n",
      "Train accuracy: 0.9444\n",
      "2200 44% (22m 41s) 0.2189 0.2064 hanen todistajiaan, he todistavat hanesta Israelin / finnish ✓\n",
      "Train accuracy: 0.9508\n",
      "2250 45% (23m 10s) 0.1331 0.1154 st calleth the bridegroom, and saith unto him, Eve / english ✓\n",
      "Train accuracy: 0.945\n",
      "2300 46% (23m 39s) 0.1686 0.1512 o che visse. Adamo, Seth, Enosh; Kenan, Mahalaleel / english ✗ (italian)\n",
      "Train accuracy: 0.9452\n",
      "2350 47% (24m 8s) 0.1067 0.1002 t nem vallok. Kozel van, a ki engem megigazit, ki  / hungarian ✓\n",
      "Train accuracy: 0.9518\n",
      "2400 48% (24m 38s) 0.0945 0.0764 vykote iszvalgyti silpnesniuju salies vietu\". Jie  / lithuanian ✓\n",
      "Train accuracy: 0.952\n",
      "2450 49% (25m 7s) 0.1219 0.1026 spues de ti; y aun Saul mi padre asi lo sabe. Y en / spanish ✓\n",
      "Train accuracy: 0.9592\n",
      "2500 50% (25m 36s) 0.1391 0.1097 irent un homme, qui sortait de la ville, et ils lu / french ✓\n",
      "Train accuracy: 0.9644\n",
      "2550 51% (26m 5s) 0.2276 0.1841  luat cele zece tiitoare pe cari le lasase pentru  / romanian ✓\n",
      "Train accuracy: 0.9578\n",
      "2600 52% (26m 34s) 0.0970 0.0793 ngemagten, sagde han, at disse Tjenere, hvem han h / danish ✓\n",
      "Train accuracy: 0.9574\n",
      "2650 53% (27m 3s) 0.1262 0.1118 skiamas uz savo nedorybes. Kas neklauso vargso sau / lithuanian ✓\n",
      "Train accuracy: 0.9606\n",
      "2700 54% (27m 32s) 0.1195 0.0959 kulde vaere dod, og han hidkaldte Hovedsmanden og  / danish ✓\n",
      "Train accuracy: 0.9584\n",
      "2750 55% (28m 1s) 0.0779 0.0648 icet let, kdyz se stal kralem; kraloval ctyricet l / czech ✓\n",
      "Train accuracy: 0.9586\n",
      "2800 56% (28m 27s) 0.2028 0.1928 sraelilaiset olivat tehneet amorilaisille, ja kosk / finnish ✓\n",
      "Train accuracy: 0.9544\n",
      "2850 56% (28m 52s) 0.1872 0.1482 un figliuol d'uomo. La parola dell'Eterno che fu r / italian ✓\n",
      "Train accuracy: 0.963\n",
      "2900 57% (29m 17s) 0.1053 0.0790 i trapasis la tutan landon, kaj venis Jerusalemon  / esperanto ✓\n",
      "Train accuracy: 0.9596\n",
      "2950 59% (29m 44s) 0.1946 0.1768 e do av hunger. Da sa Herren til Moses: Se, jeg vi / norwegian ✓\n",
      "Train accuracy: 0.9662\n",
      "3000 60% (30m 11s) 0.0802 0.0720 a kwesigubungelo anaso, yingubo yakhe yomzimba wak / xhosa ✓\n",
      "Train accuracy: 0.966\n",
      "3050 61% (30m 34s) 0.1235 0.0978 n und gottesfurchtig vor vielen andern . Und ich s / german ✓\n",
      "Train accuracy: 0.966\n",
      "3100 62% (30m 56s) 0.1142 0.0975  mane laikai priesu? Kodel rodai savo jega pries v / lithuanian ✓\n",
      "Train accuracy: 0.958\n",
      "3150 63% (31m 18s) 0.0529 0.0503  unter dein Volk, in deine Backofen und in deine B / german ✓\n",
      "Train accuracy: 0.9664\n",
      "3200 64% (31m 40s) 0.0885 0.0832 gard the presence of Jehoshaphat the king of Judah / english ✓\n",
      "Train accuracy: 0.964\n",
      "3250 65% (32m 1s) 0.0592 0.0434 at the time of the reproach of the daughters of Sy / english ✓\n",
      "Train accuracy: 0.964\n",
      "3300 66% (32m 23s) 0.1442 0.1119 eltmeyecek. Ezilmis kamisi kirmayacak,<br />Tuten  / turkish ✓\n",
      "Train accuracy: 0.969\n",
      "3350 67% (32m 45s) 0.1258 0.1036 uba itsho iNkosi uYehova ukuthi, Kobeka phi na ke, / xhosa ✓\n",
      "Train accuracy: 0.9698\n",
      "3400 68% (33m 7s) 0.0359 0.0387  e whakangaromia: ko wai hoki e harakore ki te tot / maori ✓\n",
      "Train accuracy: 0.9652\n",
      "3450 69% (33m 29s) 0.0467 0.0417 es loytaa sen. Kun han loytaa lampaansa, han nosta / finnish ✓\n",
      "Train accuracy: 0.9664\n"
     ]
    },
    {
     "name": "stdout",
     "output_type": "stream",
     "text": [
      "3500 70% (33m 51s) 0.0561 0.0300 o stoltamente; non hai osservato il comandamento c / italian ✓\n",
      "Train accuracy: 0.9712\n",
      "3550 71% (34m 13s) 0.0927 0.0746 me qellim qe te derdhen ne thesaret e mbretit\". At / albanian ✓\n",
      "Train accuracy: 0.9714\n",
      "3600 72% (34m 36s) 0.1198 0.1106 yn. Han sendte sin Vredesglod mod dem, Harme, Vred / danish ✓\n",
      "Train accuracy: 0.965\n",
      "3650 73% (34m 58s) 0.1123 0.0880 ikke mere, og den yngste er for Tiden hjemme hos v / danish ✓\n",
      "Train accuracy: 0.9726\n",
      "3700 74% (35m 19s) 0.0397 0.0329 das apristas drobule. Jezus jiems liepe: \"Atvyniok / lithuanian ✓\n",
      "Train accuracy: 0.9732\n",
      "3750 75% (35m 42s) 0.0535 0.0451 iveste duhul sfinteniei dovedit cu putere ca este  / romanian ✓\n",
      "Train accuracy: 0.9692\n",
      "3800 76% (36m 4s) 0.0743 0.0692 efleksi la rektajn vojojn de la Sinjoro? Kaj nun j / esperanto ✓\n",
      "Train accuracy: 0.9692\n",
      "3850 77% (36m 29s) 0.0432 0.0389  en millares, que perdona la iniquidad, la rebelio / spanish ✓\n",
      "Train accuracy: 0.9742\n",
      "3900 78% (36m 57s) 0.1000 0.0836  l'Eternel, et sont alles apres d'autres dieux et  / french ✓\n",
      "Train accuracy: 0.973\n",
      "3950 79% (37m 22s) 0.1142 0.0848 ut it off, that none shall dwell therein, neither  / english ✓\n",
      "Train accuracy: 0.975\n",
      "4000 80% (37m 50s) 0.0942 0.0852  vil vende tilbake til mitt hus, som jeg for ut av / norwegian ✓\n",
      "Train accuracy: 0.969\n",
      "4050 81% (38m 57s) 0.0552 0.0447 g funf Ellen ringsum. Das Gebaude aber, welches au / german ✓\n",
      "Train accuracy: 0.9716\n",
      "4100 82% (39m 24s) 0.0523 0.0392 o yokubhuda ngoYehova, silambathise umphefumlo wol / xhosa ✓\n",
      "Train accuracy: 0.9772\n",
      "4150 83% (39m 59s) 0.0519 0.0436 t decit minciuna, si n'au nicio suflare in ei! Sin / romanian ✓\n",
      "Train accuracy: 0.9764\n",
      "4200 84% (40m 27s) 0.1110 0.0970 dau ve su chet cua ke phai chet, vay cac nguoi hay / vietnamese ✓\n",
      "Train accuracy: 0.9746\n",
      "4250 85% (40m 50s) 0.0545 0.0378 ituira na terra do Egito, apaixonando-se dos seus  / portuguese ✓\n",
      "Train accuracy: 0.9744\n",
      "4300 86% (41m 11s) 0.0661 0.0631 thye bashke me Ruthin, nusen e saj, qe kishte ardh / albanian ✓\n",
      "Train accuracy: 0.9782\n",
      "4350 87% (41m 33s) 0.0663 0.0538  Farao ur dodsriket, till honom och till hans hjal / swedish ✓\n",
      "Train accuracy: 0.9758\n",
      "4400 88% (41m 55s) 0.0710 0.0523 hin ne lume u  shnderruan ne gjak. Dhe peshqit qe  / albanian ✓\n",
      "Train accuracy: 0.9756\n",
      "4450 89% (42m 16s) 0.0375 0.0338 i! Poate ca Domnul va face pentru noi vreuna din m / romanian ✓\n",
      "Train accuracy: 0.974\n",
      "4500 90% (42m 38s) 0.0352 0.0291 a kterou jsme se vydali.\" Knez jim rekl: \"Jdete v  / czech ✓\n",
      "Train accuracy: 0.9722\n",
      "4550 91% (43m 0s) 0.0404 0.0329 trur. Och alla fyrfotadjur, alla kraldjur och alla / swedish ✓\n",
      "Train accuracy: 0.9758\n",
      "4600 92% (43m 21s) 0.0871 0.0702 n av eder vil baere frem for Herren et offer av bu / norwegian ✓\n",
      "Train accuracy: 0.9756\n",
      "4650 93% (43m 47s) 0.0320 0.0255  foram setecentos e setenta e sete anos; e morreu. / portuguese ✓\n",
      "Train accuracy: 0.9842\n",
      "4700 94% (44m 16s) 0.0445 0.0414  Moslen og Olien, som I har lant dem! Da svarede d / danish ✓\n",
      "Train accuracy: 0.9802\n",
      "4750 95% (44m 41s) 0.0307 0.0240 sytos, ir Dievas prisimine tavo gailestingumo auka / lithuanian ✓\n",
      "Train accuracy: 0.979\n",
      "4800 96% (45m 7s) 0.0697 0.0488 gemiso,  acwangcise phezu kwawo idini elinyukayo,  / xhosa ✓\n",
      "Train accuracy: 0.9766\n",
      "4850 97% (45m 34s) 0.0498 0.0462  da prisao, e disse: Anunciai isto a Tiago e aos i / portuguese ✓\n",
      "Train accuracy: 0.979\n",
      "4900 98% (46m 2s) 0.0843 0.0715 an siger til dem: \"Se, jeg forer ham ud til eder,  / danish ✓\n",
      "Train accuracy: 0.9748\n",
      "4950 99% (46m 59s) 0.1109 0.0941  li faris kupran altaron, havantan la longon de du / swedish ✗ (esperanto)\n",
      "Train accuracy: 0.977\n",
      "5000 100% (47m 39s) 0.0091 0.0093 chajas rase antra laiska del Purimo. Jie issiuntin / lithuanian ✓\n",
      "Train accuracy: 0.9784\n"
     ]
    }
   ],
   "source": [
    "n_iters = 100000\n",
    "print_every = 50\n",
    "plot_every = 50\n",
    "\n",
    "\n",
    "# Keep track of losses for plotting\n",
    "current_loss = 0\n",
    "current_test_loss = 0\n",
    "all_losses = []\n",
    "all_test_losses = []\n",
    "\n",
    "start = time.time()\n",
    "\n",
    "optimizer = torch.optim.Adam(rnn.parameters(), lr=learning_rate)\n",
    "\n",
    "\n",
    "number_correct = 0\n",
    "for iter in range(1, n_iters + 1):\n",
    "    input_data, target_category, text_data = load_random_batch(train_category_data, chunk_len, BATCH_SIZE)\n",
    "    output, loss = train(rnn, target_category, input_data, optimizer, criterion)\n",
    "    current_loss += loss\n",
    "    \n",
    "    _, test_loss = eval_test(rnn, target_category, input_data)\n",
    "    current_test_loss += test_loss\n",
    "    \n",
    "    guess_i = categoryFromOutput(output)\n",
    "    number_correct += (target_category.squeeze()==guess_i.squeeze()).long().sum()\n",
    "    \n",
    "    # Print iter number, loss, name and guess\n",
    "    if iter % print_every == 0:\n",
    "        sample_idx = 0\n",
    "        guess = all_categories[guess_i[sample_idx]]\n",
    "        \n",
    "        category = all_categories[int(target_category[sample_idx])]\n",
    "        \n",
    "        correct = '✓' if guess == category else '✗ (%s)' % category\n",
    "        print('%d %d%% (%s) %.4f %.4f %s / %s %s' % (iter, iter / n_iters * 100, time_since(start), loss, test_loss, text_data[sample_idx], guess, correct))\n",
    "        print('Train accuracy: {}'.format(float(number_correct)/float(print_every*BATCH_SIZE)))\n",
    "        number_correct = 0\n",
    "    \n",
    "    # Add current loss avg to list of losses\n",
    "    if iter % plot_every == 0:\n",
    "        all_losses.append(current_loss / plot_every)\n",
    "        current_loss = 0\n",
    "        all_test_losses.append(current_test_loss / plot_every)\n",
    "        current_test_loss = 0"
   ]
  },
  {
   "cell_type": "markdown",
   "metadata": {},
   "source": [
    "Plot loss functions\n",
    "--------------------\n",
    "\n"
   ]
  },
  {
   "cell_type": "code",
   "execution_count": 12,
   "metadata": {
    "scrolled": true
   },
   "outputs": [
    {
     "data": {
      "text/plain": [
       "[<matplotlib.lines.Line2D at 0x7fbbe7679190>]"
      ]
     },
     "execution_count": 12,
     "metadata": {},
     "output_type": "execute_result"
    },
    {
     "data": {
      "image/png": "[encoded data removed]",
      "text/plain": [
       "<Figure size 432x288 with 1 Axes>"
      ]
     },
     "metadata": {
      "needs_background": "light"
     },
     "output_type": "display_data"
    }
   ],
   "source": [
    "import matplotlib.pyplot as plt\n",
    "import matplotlib.ticker as ticker\n",
    "\n",
    "plt.figure()\n",
    "plt.plot(all_losses, color='b')\n",
    "plt.plot(all_test_losses, color='r')"
   ]
  },
  {
   "cell_type": "markdown",
   "metadata": {},
   "source": [
    "Evaluate results\n",
    "-------------------\n",
    "\n",
    "We now vizualize the performance of our model by creating a confusion matrix. The ground truth languages of samples are represented by rows in the matrix while the predicted languages are represented by columns.\n",
    "\n",
    "In this evaluation we consider sequences of variable sizes rather than the fixed length sequences we used for training."
   ]
  },
  {
   "cell_type": "code",
   "execution_count": 13,
   "metadata": {},
   "outputs": [
    {
     "name": "stdout",
     "output_type": "stream",
     "text": [
      "Test accuracy:  0.822\n"
     ]
    },
    {
     "data": {
      "image/png": "[encoded data removed]",
      "text/plain": [
       "<Figure size 432x288 with 2 Axes>"
      ]
     },
     "metadata": {
      "needs_background": "light"
     },
     "output_type": "display_data"
    }
   ],
   "source": [
    "eval_batch_size = 1  # needs to be set to 1 for evaluating different sequence lengths\n",
    "\n",
    "# Keep track of correct guesses in a confusion matrix\n",
    "confusion = torch.zeros(n_languages, n_languages)\n",
    "n_confusion = 1000\n",
    "num_correct = 0\n",
    "total = 0\n",
    "\n",
    "for i in range(n_confusion):\n",
    "    eval_chunk_len = random.randint(10, 50) # in evaluation we will look at sequences of variable sizes\n",
    "    input_data, target_category, text_data = load_random_batch(test_category_data, chunk_len=eval_chunk_len, batch_size=eval_batch_size)\n",
    "    output = evaluate(rnn, input_data, seq_len=eval_chunk_len, batch_size=eval_batch_size)\n",
    "    \n",
    "    guess_i = categoryFromOutput(output)\n",
    "    category_i = [int(target_category[idx]) for idx in range(len(target_category))]\n",
    "    for j in range(eval_batch_size):\n",
    "        category = all_categories[category_i[j]] \n",
    "        confusion[category_i[j]][guess_i[j]] += 1\n",
    "        num_correct += int(guess_i[j]==category_i[j])\n",
    "        total += 1\n",
    "\n",
    "print('Test accuracy: ', float(num_correct)/float(n_confusion*eval_batch_size))\n",
    "\n",
    "# Normalize by dividing every row by its sum\n",
    "for i in range(n_languages):\n",
    "    confusion[i] = confusion[i] / confusion[i].sum()\n",
    "\n",
    "# Set up plot\n",
    "fig = plt.figure()\n",
    "ax = fig.add_subplot(111)\n",
    "cax = ax.matshow(confusion.numpy())\n",
    "fig.colorbar(cax)\n",
    "\n",
    "# Set up axes\n",
    "ax.set_xticklabels([''] + all_categories, rotation=90)\n",
    "ax.set_yticklabels([''] + all_categories)\n",
    "\n",
    "# Force label at every tick\n",
    "ax.xaxis.set_major_locator(ticker.MultipleLocator(1))\n",
    "ax.yaxis.set_major_locator(ticker.MultipleLocator(1))\n",
    "\n",
    "plt.show()"
   ]
  },
  {
   "cell_type": "markdown",
   "metadata": {},
   "source": [
    "You can pick out bright spots off the main axis that show which\n",
    "languages it guesses incorrectly.\n",
    "\n",
    "\n"
   ]
  },
  {
   "cell_type": "markdown",
   "metadata": {},
   "source": [
    "Run on User Input\n",
    "---------------------\n",
    "\n",
    "Now you can test your model on your own input. \n"
   ]
  },
  {
   "cell_type": "code",
   "execution_count": 14,
   "metadata": {},
   "outputs": [
    {
     "name": "stdout",
     "output_type": "stream",
     "text": [
      "\n",
      "> This is a phrase to test the model on user input\n",
      "(9.37) english\n",
      "(6.25) albanian\n",
      "(2.65) french\n",
      "(2.34) danish\n",
      "(2.22) german\n"
     ]
    }
   ],
   "source": [
    "def predict(input_line, n_predictions=5):\n",
    "    print('\\n> %s' % input_line)\n",
    "    with torch.no_grad():\n",
    "        input_data = stringToTensor(input_line).long().unsqueeze(0).to(device)\n",
    "        output = evaluate(rnn, input_data, seq_len=len(input_line), batch_size=1)\n",
    "\n",
    "    # Get top N categories\n",
    "    topv, topi = output.topk(n_predictions, dim=1)\n",
    "    predictions = []\n",
    "\n",
    "    for i in range(n_predictions):\n",
    "        topv.shape\n",
    "        topi.shape\n",
    "        value = topv[0][i].item()\n",
    "        category_index = topi[0][i].item()\n",
    "        print('(%.2f) %s' % (value, all_categories[category_index]))\n",
    "        predictions.append([value, all_categories[category_index]])\n",
    "\n",
    "predict('This is a phrase to test the model on user input')\n"
   ]
  },
  {
   "cell_type": "markdown",
   "metadata": {},
   "source": [
    "# Output Kaggle submission file\n",
    "\n",
    "Once you have found a good set of hyperparameters submit the output of your model on the Kaggle test file."
   ]
  },
  {
   "cell_type": "code",
   "execution_count": 15,
   "metadata": {},
   "outputs": [],
   "source": [
    "### DO NOT CHANGE KAGGLE SUBMISSION CODE ####\n",
    "import csv\n",
    "\n",
    "kaggle_test_file_path = 'language_data/kaggle_rnn_language_classification_test.txt'\n",
    "with open(kaggle_test_file_path, 'r') as f:\n",
    "    lines = f.readlines()\n",
    "\n",
    "output_rows = []\n",
    "for i, line in enumerate(lines):\n",
    "    sample = line.rstrip()\n",
    "    sample_chunk_len = len(sample)\n",
    "    input_data = stringToTensor(sample).unsqueeze(0)\n",
    "    output = evaluate(rnn, input_data, seq_len=sample_chunk_len, batch_size=1)\n",
    "    guess_i = categoryFromOutput(output)\n",
    "    output_rows.append((str(i+1), all_categories[guess_i]))\n",
    "\n",
    "submission_file_path = 'kaggle_rnn_submission.txt'\n",
    "with open(submission_file_path, 'w') as f:\n",
    "    output_rows = [('id', 'category')] + output_rows\n",
    "    writer = csv.writer(f)\n",
    "    writer.writerows(output_rows)\n"
   ]
  },
  {
   "cell_type": "code",
   "execution_count": null,
   "metadata": {},
   "outputs": [],
   "source": []
  }
 ],
 "metadata": {
  "kernelspec": {
   "display_name": "Python 3",
   "language": "python",
   "name": "python3"
  },
  "language_info": {
   "codemirror_mode": {
    "name": "ipython",
    "version": 3
   },
   "file_extension": ".py",
   "mimetype": "text/x-python",
   "name": "python",
   "nbconvert_exporter": "python",
   "pygments_lexer": "ipython3",
   "version": "3.8.3"
  }
 },
 "nbformat": 4,
 "nbformat_minor": 2
}
